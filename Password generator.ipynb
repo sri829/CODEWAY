{
 "cells": [
  {
   "cell_type": "markdown",
   "id": "9ff386fd",
   "metadata": {},
   "source": [
    "# code way\n",
    "# Task 3: Password generator"
   ]
  },
  {
   "cell_type": "markdown",
   "id": "f75beb70",
   "metadata": {},
   "source": [
    "### A password generator is a useful tool that generates strong and random passwords for users. This project aims to create a password generator application using Python,allowing users to specify the length and complexity of the password.\n",
    "\n",
    "**User Input: Prompt the user to specify the desired length of the password.**\n",
    "\n",
    "**Generate Password: Use a combination of random characters to generate a password ofthe specified length.**\n",
    "\n",
    "**Display the Password: Print the generated password on the screen.**"
   ]
  },
  {
   "cell_type": "code",
   "execution_count": 6,
   "id": "2290aa1a",
   "metadata": {},
   "outputs": [
    {
     "name": "stdout",
     "output_type": "stream",
     "text": [
      "Welcome to the Password Generator!\n",
      "How many letters would you like in your password?\n",
      "4\n",
      "How many symbols would you like?\n",
      "5\n",
      "How many numbers would you like?\n",
      "4\n",
      "char n\n",
      "Your Random password to use is: 3c5(m:3*29i/n\n"
     ]
    }
   ],
   "source": [
    "import random\n",
    "letters = ['a', 'b', 'c', 'd', 'e', 'f', 'g', 'h', 'i', 'j', 'k', 'l', 'm', 'n', 'o',\n",
    "           'p', 'q', 'r', 's', 't', 'u', 'v', 'w', 'x', 'y', 'z', 'A', 'B', 'C', 'D',\n",
    "           'E', 'F', 'G', 'H', 'I', 'J', 'K', 'L', 'M', 'N', 'O', 'P', 'Q', 'R', 'S',\n",
    "           'T', 'U', 'V', 'W', 'X', 'Y', 'Z']\n",
    "numbers = ['0', '1', '2', '3', '4', '5', '6', '7', '8', '9']\n",
    "symbols = ['@', '#', '$', '%', '=', ':', '?', '.', '/', '|', '~', '>','*', '(', ')', '<'] \n",
    "print(\"Welcome to the Password Generator!\")\n",
    "nr_letters = int(input(\"How many letters would you like in your password?\\n\"))\n",
    "nr_symbols = int(input(f\"How many symbols would you like?\\n\"))\n",
    "nr_numbers = int(input(f\"How many numbers would you like?\\n\"))\n",
    "password_list = []\n",
    "for char in range(1, nr_letters + 1):\n",
    "    password_list.append(random.choice(letters))\n",
    "for char in range(1, nr_symbols + 1):\n",
    "    password_list.append(random.choice(numbers))\n",
    "for char in range(1, nr_numbers + 1):\n",
    "    password_list.append(random.choice(symbols))\n",
    "random.shuffle(password_list)\n",
    "password = \"\"\n",
    "for char in password_list:\n",
    "    password += char\n",
    "print(\"char\", char)\n",
    "# convert list to string\n",
    "pwd = ''.join(password_list)\n",
    "print(f\"Your Random password to use is: {pwd}\")"
   ]
  }
 ],
 "metadata": {
  "kernelspec": {
   "display_name": "Python 3 (ipykernel)",
   "language": "python",
   "name": "python3"
  },
  "language_info": {
   "codemirror_mode": {
    "name": "ipython",
    "version": 3
   },
   "file_extension": ".py",
   "mimetype": "text/x-python",
   "name": "python",
   "nbconvert_exporter": "python",
   "pygments_lexer": "ipython3",
   "version": "3.11.5"
  }
 },
 "nbformat": 4,
 "nbformat_minor": 5
}
