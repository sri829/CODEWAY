{
 "cells": [
  {
   "cell_type": "markdown",
   "id": "734dcdd4",
   "metadata": {},
   "source": [
    "# code way\n",
    "# Task:1 Simple calculator"
   ]
  },
  {
   "cell_type": "markdown",
   "id": "e7d1e995",
   "metadata": {},
   "source": [
    "# Design a simple calculator with basic arithmetic operations. Prompt theuser to input two numbers and an operation choice. Perform the calculation and display the result."
   ]
  },
  {
   "cell_type": "code",
   "execution_count": 21,
   "id": "396cb514",
   "metadata": {},
   "outputs": [
    {
     "name": "stdout",
     "output_type": "stream",
     "text": [
      "\u001b[36mSIMPLE CALCULATER\u001b[0m\n",
      "Enter the first number: 10\n",
      "Enter the second number: 10\n",
      "\u001b[34mSelect operation:\u001b[0m\n",
      "+ Addition - Subtraction * Multiplication / Division\n",
      "Enter A Operation:  *\n",
      "\u001b[33mResult= 10 * 10 =100\u001b[0m\n"
     ]
    }
   ],
   "source": [
    "# Get input from the user \n",
    "# eval is int or flot values will work \n",
    "class colors:\n",
    "    RESET = '\\033[0m'\n",
    "    BLACK = '\\033[30m'\n",
    "    RED = '\\033[31m'\n",
    "    GREEN = '\\033[32m'\n",
    "    YELLOW = '\\033[33m'\n",
    "    BLUE = '\\033[34m'\n",
    "    MAGENTA = '\\033[35m'\n",
    "    CYAN = '\\033[36m'\n",
    "    WHITE = '\\033[37m'\n",
    "# Example usage\n",
    "print(colors.CYAN + \"SIMPLE CALCULATER\" + colors.RESET)\n",
    "\n",
    "l1=[]\n",
    "num1=eval(input(\"Enter the first number: \"))\n",
    "num2=eval(input(\"Enter the second number: \"))\n",
    "for i in range(1):\n",
    "    # Display operation choices\n",
    "    print(colors.BLUE+ \"Select operation:\" + colors.RESET)\n",
    "    print(\"+ Addition - Subtraction * Multiplication / Division\")\n",
    "    inp=str(input('Enter A Operation:  '))\n",
    "    l1.append(inp)\n",
    "# Get operation choice from the user\n",
    "# Perform the calculation based on the user's choice\n",
    "if l1[0]=='+':\n",
    "    add=(num1+num2)\n",
    "    print(colors.GREEN+'Result= {} {} {} ={}'.format(num1,inp,num2,add)+ colors.RESET)\n",
    "elif l1[0]=='-':\n",
    "    sub=(num1-num2)\n",
    "    print(colors.MAGENTA +'Result= {} {} {} ={}'.format(num1,inp,num2,sub)+ colors.RESET)\n",
    "elif l1[0]=='*':\n",
    "    multi=(num1*num2)\n",
    "    print(colors.YELLOW +'Result= {} {} {} ={}'.format(num1,inp,num2,multi)+ colors.RESET)\n",
    "elif l1[0]=='/':\n",
    "    dev=(num1/num2)\n",
    "    print(colors.GREEN +'Result= {} {} {} ={}'.format(num1,inp,num2,div)+ colors.RESET)\n",
    "else:\n",
    "    print(colors.RED +'check the operation or values'+colors.RESET)\n"
   ]
  },
  {
   "cell_type": "code",
   "execution_count": null,
   "id": "9f434b3d",
   "metadata": {},
   "outputs": [],
   "source": []
  }
 ],
 "metadata": {
  "kernelspec": {
   "display_name": "Python 3 (ipykernel)",
   "language": "python",
   "name": "python3"
  },
  "language_info": {
   "codemirror_mode": {
    "name": "ipython",
    "version": 3
   },
   "file_extension": ".py",
   "mimetype": "text/x-python",
   "name": "python",
   "nbconvert_exporter": "python",
   "pygments_lexer": "ipython3",
   "version": "3.11.5"
  }
 },
 "nbformat": 4,
 "nbformat_minor": 5
}
