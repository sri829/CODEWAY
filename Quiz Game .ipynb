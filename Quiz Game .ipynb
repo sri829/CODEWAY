{
 "cells": [
  {
   "cell_type": "markdown",
   "id": "fd08ad91",
   "metadata": {},
   "source": [
    "## CODEWAY\n",
    "## Task-5:- QUIZ GAME"
   ]
  },
  {
   "cell_type": "markdown",
   "id": "7126c255",
   "metadata": {},
   "source": [
    "$ Develop a quiz game that asks users multiple-choice or fill-in-the-blank questions on aspecific topic. The game should keep track of scores, provide feedback oncorrect/incorrect answers, and offer a variety of questions to make it challenging and engaging.$"
   ]
  },
  {
   "cell_type": "code",
   "execution_count": 8,
   "id": "97813913",
   "metadata": {},
   "outputs": [
    {
     "name": "stdout",
     "output_type": "stream",
     "text": [
      "Welcome to the Quiz Game!\n",
      "You will be asked multiple-choice and fill-in-the-blank questions.\n",
      "Let's begin!\n",
      "\n",
      "Which of the following is the correct extension of the Python file?\n",
      "A.python\n",
      "B.pl\n",
      "C.ipynb\n",
      "D.csv\n",
      "\n",
      "Enter your answer: c\n",
      "Correct!\n",
      "What is the chemical symbol for water?\n",
      "\n",
      "Enter your answer: h2o\n",
      "Correct!\n",
      "Which of the following is not a core data type in Python programming?\n",
      "A. Tuples\n",
      "B. List\n",
      "C. Class\n",
      "D. Dictionary\n",
      "\n",
      "Enter your answer: c\n",
      "Incorrect. The correct answer is: A\n",
      "Quiz completed! Your score is: 2\n"
     ]
    }
   ],
   "source": [
    "import random\n",
    "class QuizGame:\n",
    "    def __init__(self):\n",
    "        self.questions = [{'question': \"Which of the following is the correct extension of the Python file?\",\n",
    "                           'options': [\"A.python\", \"B.pl\", \"C.ipynb\", \"D.csv\"],\n",
    "                           'answer': \"C\"},\n",
    "                          {'question': \"Which of the following is not a core data type in Python programming?\",\n",
    "                           'options': [\"A. Tuples\", \"B. List\", \"C. Class\", \"D. Dictionary\"],\n",
    "                           'answer': \"A\"},\n",
    "                          {'question': \"What is the chemical symbol for water?\",\n",
    "                           'answer': \"H2O\"}]\n",
    "        self.score = 0\n",
    "    def display_question(self, question):\n",
    "        print(question['question'])\n",
    "        if 'options' in question:\n",
    "            for option in question['options']:\n",
    "                print(option)\n",
    "        print()\n",
    "    def ask_question(self, question):\n",
    "        self.display_question(question)\n",
    "        user_answer = input(\"Enter your answer: \").strip().upper()\n",
    "        if user_answer == question['answer']:\n",
    "            print(\"Correct!\")\n",
    "            self.score += 1\n",
    "        else:\n",
    "            print(\"Incorrect. The correct answer is:\", question['answer'])\n",
    "    def start_game(self):\n",
    "        random.shuffle(self.questions)\n",
    "        for question in self.questions:\n",
    "            self.ask_question(question)\n",
    "        print(\"Quiz completed! Your score is:\", self.score)\n",
    "\n",
    "# Main function to start the quiz game\n",
    "def main():\n",
    "    print(\"Welcome to the Quiz Game!\")\n",
    "    print(\"You will be asked multiple-choice and fill-in-the-blank questions.\")\n",
    "    print(\"Let's begin!\\n\")\n",
    "\n",
    "    game = QuizGame()\n",
    "    game.start_game()\n",
    "\n",
    "if __name__ == \"__main__\":\n",
    "    main()\n"
   ]
  },
  {
   "cell_type": "code",
   "execution_count": null,
   "id": "5ba1b418",
   "metadata": {},
   "outputs": [],
   "source": []
  },
  {
   "cell_type": "code",
   "execution_count": null,
   "id": "34611ea9",
   "metadata": {},
   "outputs": [],
   "source": []
  }
 ],
 "metadata": {
  "kernelspec": {
   "display_name": "Python 3 (ipykernel)",
   "language": "python",
   "name": "python3"
  },
  "language_info": {
   "codemirror_mode": {
    "name": "ipython",
    "version": 3
   },
   "file_extension": ".py",
   "mimetype": "text/x-python",
   "name": "python",
   "nbconvert_exporter": "python",
   "pygments_lexer": "ipython3",
   "version": "3.11.5"
  }
 },
 "nbformat": 4,
 "nbformat_minor": 5
}
